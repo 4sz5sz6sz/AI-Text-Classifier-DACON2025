{
 "cells": [
  {
   "cell_type": "markdown",
   "id": "2270cb46",
   "metadata": {},
   "source": [
    "# TF-IDF + XGBoost 베이스라인 실험\n",
    "\n",
    "**실험 날짜**: 2025-07-01  \n",
    "**목적**: 대회 베이스라인 성능 확인 및 기준점 설정  \n",
    "**결과**: Validation AUC 0.9096"
   ]
  },
  {
   "cell_type": "markdown",
   "id": "d3065576",
   "metadata": {},
   "source": [
    "# Import"
   ]
  },
  {
   "cell_type": "code",
   "execution_count": null,
   "id": "d69d8e3f",
   "metadata": {},
   "outputs": [],
   "source": [
    "import pandas as pd\n",
    "\n",
    "from sklearn.model_selection import train_test_split\n",
    "from sklearn.feature_extraction.text import TfidfVectorizer\n",
    "from sklearn.pipeline import FeatureUnion, Pipeline\n",
    "from sklearn.preprocessing import FunctionTransformer\n",
    "from sklearn.metrics import roc_auc_score\n",
    "\n",
    "from xgboost import XGBClassifier"
   ]
  },
  {
   "cell_type": "markdown",
   "id": "9e27e20b",
   "metadata": {},
   "source": [
    "# Data Load & Split"
   ]
  },
  {
   "cell_type": "code",
   "execution_count": null,
   "id": "71eabd2a",
   "metadata": {},
   "outputs": [],
   "source": [
    "# 아카이브 폴더에서 상위 폴더의 데이터 참조\n",
    "train = pd.read_csv('../../train.csv', encoding='utf-8-sig')\n",
    "test = pd.read_csv('../../test.csv', encoding='utf-8-sig')"
   ]
  },
  {
   "cell_type": "code",
   "execution_count": null,
   "id": "82d8fecc",
   "metadata": {},
   "outputs": [],
   "source": [
    "X = train[['title', 'full_text']]\n",
    "y = train['generated']\n",
    "X_train, X_val, y_train, y_val = train_test_split(X, y, stratify=y, test_size=0.2, random_state=42)"
   ]
  },
  {
   "cell_type": "markdown",
   "id": "93591ab1",
   "metadata": {},
   "source": [
    "# TF-IDF Vectorization"
   ]
  },
  {
   "cell_type": "code",
   "execution_count": null,
   "id": "c801ea42",
   "metadata": {},
   "outputs": [],
   "source": [
    "# TF-IDF 벡터화\n",
    "get_title = FunctionTransformer(lambda x: x['title'], validate=False)\n",
    "get_text = FunctionTransformer(lambda x: x['full_text'], validate=False)\n",
    "\n",
    "vectorizer = FeatureUnion([\n",
    "    ('title', Pipeline([('selector', get_title),\n",
    "                        ('tfidf', TfidfVectorizer(ngram_range=(1,2), max_features=3000))])),\n",
    "    ('full_text', Pipeline([('selector', get_text), \n",
    "                            ('tfidf', TfidfVectorizer(ngram_range=(1,2), max_features=10000))])),\n",
    "])\n",
    "\n",
    "# 피처 변환\n",
    "X_train_vec = vectorizer.fit_transform(X_train)\n",
    "X_val_vec = vectorizer.transform(X_val)"
   ]
  },
  {
   "cell_type": "markdown",
   "id": "e3a0727a",
   "metadata": {},
   "source": [
    "# Train"
   ]
  },
  {
   "cell_type": "code",
   "execution_count": null,
   "id": "500db0b0",
   "metadata": {},
   "outputs": [],
   "source": [
    "# 모델 정의\n",
    "xgb = XGBClassifier(random_state=42)\n",
    "xgb.fit(X_train_vec, y_train)\n",
    "\n",
    "val_probs = xgb.predict_proba(X_val_vec)[:, 1]\n",
    "auc = roc_auc_score(y_val, val_probs)\n",
    "print(f\"Validation AUC: {auc:.4f}\")"
   ]
  },
  {
   "cell_type": "markdown",
   "id": "ca06cee7",
   "metadata": {},
   "source": [
    "# Inference"
   ]
  },
  {
   "cell_type": "code",
   "execution_count": null,
   "id": "c91a64f9",
   "metadata": {},
   "outputs": [],
   "source": [
    "# test용으로 'paragraph_text'를 'full_text'에 맞게 재명명\n",
    "test = test.rename(columns={'paragraph_text': 'full_text'})\n",
    "X_test = test[['title', 'full_text']]\n",
    "\n",
    "X_test_vec = vectorizer.transform(X_test)\n",
    "\n",
    "probs = xgb.predict_proba(X_test_vec)[:, 1]"
   ]
  },
  {
   "cell_type": "markdown",
   "id": "c57a3739",
   "metadata": {},
   "source": [
    "# Submission"
   ]
  },
  {
   "cell_type": "code",
   "execution_count": null,
   "id": "5ebd4f1e",
   "metadata": {},
   "outputs": [],
   "source": [
    "# 아카이브 폴더에서 상위 폴더의 sample_submission 참조\n",
    "sample_submission = pd.read_csv('../../sample_submission.csv', encoding='utf-8-sig')\n",
    "sample_submission['generated'] = probs\n",
    "\n",
    "# 현재 폴더에 제출 파일 저장\n",
    "sample_submission.to_csv('./submission.csv', index=False)\n",
    "print(\"제출 파일이 생성되었습니다: submission.csv\")"
   ]
  }
 ],
 "metadata": {
  "language_info": {
   "name": "python"
  }
 },
 "nbformat": 4,
 "nbformat_minor": 5
}
