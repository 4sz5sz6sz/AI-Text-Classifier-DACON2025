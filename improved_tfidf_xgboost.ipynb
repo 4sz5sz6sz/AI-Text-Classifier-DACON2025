{
 "cells": [
  {
   "cell_type": "markdown",
   "id": "f3e16bb3",
   "metadata": {},
   "source": [
    "# TF-IDF + XGBoost 개선 실험\n",
    "\n",
    "**개선 사항:**\n",
    "- 하이퍼파라미터 튜닝 추가\n",
    "- 교차 검증 적용\n",
    "- 피처 개수 조정\n",
    "- 성능 비교 분석"
   ]
  },
  {
   "cell_type": "markdown",
   "id": "69d8caaf",
   "metadata": {},
   "source": [
    "# Import"
   ]
  },
  {
   "cell_type": "code",
   "execution_count": null,
   "id": "dcbb6404",
   "metadata": {},
   "outputs": [],
   "source": [
    "import pandas as pd\n",
    "import numpy as np\n",
    "\n",
    "from sklearn.model_selection import train_test_split, cross_val_score, StratifiedKFold\n",
    "from sklearn.feature_extraction.text import TfidfVectorizer\n",
    "from sklearn.pipeline import FeatureUnion, Pipeline\n",
    "from sklearn.preprocessing import FunctionTransformer\n",
    "from sklearn.metrics import roc_auc_score\n",
    "\n",
    "from xgboost import XGBClassifier\n",
    "import matplotlib.pyplot as plt"
   ]
  },
  {
   "cell_type": "markdown",
   "id": "b143f580",
   "metadata": {},
   "source": [
    "# Data Load & Split"
   ]
  },
  {
   "cell_type": "code",
   "execution_count": null,
   "id": "6b411202",
   "metadata": {},
   "outputs": [],
   "source": [
    "train = pd.read_csv('./train.csv', encoding='utf-8-sig')\n",
    "test = pd.read_csv('./test.csv', encoding='utf-8-sig')\n",
    "\n",
    "print(f\"Train shape: {train.shape}\")\n",
    "print(f\"Test shape: {test.shape}\")\n",
    "print(f\"Generated 비율: {train['generated'].mean():.3f}\")"
   ]
  },
  {
   "cell_type": "code",
   "execution_count": null,
   "id": "cf9c6724",
   "metadata": {},
   "outputs": [],
   "source": [
    "X = train[['title', 'full_text']]\n",
    "y = train['generated']\n",
    "X_train, X_val, y_train, y_val = train_test_split(X, y, stratify=y, test_size=0.2, random_state=42)"
   ]
  },
  {
   "cell_type": "markdown",
   "id": "fbc44e7d",
   "metadata": {},
   "source": [
    "# 개선된 TF-IDF Vectorization"
   ]
  },
  {
   "cell_type": "code",
   "execution_count": null,
   "id": "f3c9cafe",
   "metadata": {},
   "outputs": [],
   "source": [
    "# 피처 개수 늘리고 다양한 n-gram 시도\n",
    "get_title = FunctionTransformer(lambda x: x['title'], validate=False)\n",
    "get_text = FunctionTransformer(lambda x: x['full_text'], validate=False)\n",
    "\n",
    "# 개선된 벡터화 (더 많은 피처와 3-gram까지)\n",
    "vectorizer = FeatureUnion([\n",
    "    ('title', Pipeline([('selector', get_title),\n",
    "                        ('tfidf', TfidfVectorizer(ngram_range=(1,3), max_features=5000, \n",
    "                                                min_df=2, max_df=0.95))])),\n",
    "    ('full_text', Pipeline([('selector', get_text), \n",
    "                            ('tfidf', TfidfVectorizer(ngram_range=(1,3), max_features=15000,\n",
    "                                                    min_df=2, max_df=0.95))])),\n",
    "])\n",
    "\n",
    "# 피처 변환\n",
    "X_train_vec = vectorizer.fit_transform(X_train)\n",
    "X_val_vec = vectorizer.transform(X_val)\n",
    "\n",
    "print(f\"피처 차원: {X_train_vec.shape[1]}\")"
   ]
  },
  {
   "cell_type": "markdown",
   "id": "7bf606fd",
   "metadata": {},
   "source": [
    "# 베이스라인 모델 (비교용)"
   ]
  },
  {
   "cell_type": "code",
   "execution_count": null,
   "id": "488bae9f",
   "metadata": {},
   "outputs": [],
   "source": [
    "# 기본 XGBoost (베이스라인)\n",
    "xgb_baseline = XGBClassifier(random_state=42)\n",
    "xgb_baseline.fit(X_train_vec, y_train)\n",
    "\n",
    "val_probs_baseline = xgb_baseline.predict_proba(X_val_vec)[:, 1]\n",
    "auc_baseline = roc_auc_score(y_val, val_probs_baseline)\n",
    "print(f\"베이스라인 Validation AUC: {auc_baseline:.4f}\")"
   ]
  },
  {
   "cell_type": "markdown",
   "id": "eab40749",
   "metadata": {},
   "source": [
    "# 하이퍼파라미터 튜닝된 모델"
   ]
  },
  {
   "cell_type": "code",
   "execution_count": null,
   "id": "096575f3",
   "metadata": {},
   "outputs": [],
   "source": [
    "# 개선된 하이퍼파라미터\n",
    "xgb_improved = XGBClassifier(\n",
    "    n_estimators=200,           # 트리 개수 증가\n",
    "    max_depth=6,                # 깊이 조정\n",
    "    learning_rate=0.1,          # 학습률 조정\n",
    "    subsample=0.8,              # 서브샘플링\n",
    "    colsample_bytree=0.8,       # 피처 서브샘플링\n",
    "    reg_alpha=0.1,              # L1 정규화\n",
    "    reg_lambda=1.0,             # L2 정규화\n",
    "    random_state=42,\n",
    "    n_jobs=-1\n",
    ")\n",
    "\n",
    "xgb_improved.fit(X_train_vec, y_train)\n",
    "\n",
    "val_probs_improved = xgb_improved.predict_proba(X_val_vec)[:, 1]\n",
    "auc_improved = roc_auc_score(y_val, val_probs_improved)\n",
    "print(f\"개선된 모델 Validation AUC: {auc_improved:.4f}\")\n",
    "print(f\"성능 향상: {auc_improved - auc_baseline:.4f}\")"
   ]
  },
  {
   "cell_type": "markdown",
   "id": "2a59ffbb",
   "metadata": {},
   "source": [
    "# 교차 검증으로 안정성 확인"
   ]
  },
  {
   "cell_type": "code",
   "execution_count": null,
   "id": "9c799073",
   "metadata": {},
   "outputs": [],
   "source": [
    "# 5-fold 교차 검증\n",
    "cv = StratifiedKFold(n_splits=5, shuffle=True, random_state=42)\n",
    "\n",
    "# 전체 훈련 데이터로 교차 검증\n",
    "X_full_vec = vectorizer.fit_transform(X)\n",
    "cv_scores = cross_val_score(xgb_improved, X_full_vec, y, \n",
    "                           cv=cv, scoring='roc_auc', n_jobs=-1)\n",
    "\n",
    "print(f\"교차 검증 AUC: {cv_scores.mean():.4f} ± {cv_scores.std():.4f}\")\n",
    "print(f\"개별 점수: {cv_scores}\")"
   ]
  },
  {
   "cell_type": "markdown",
   "id": "6e3e8bfd",
   "metadata": {},
   "source": [
    "# 성능 비교 시각화"
   ]
  },
  {
   "cell_type": "code",
   "execution_count": null,
   "id": "3e8132af",
   "metadata": {},
   "outputs": [],
   "source": [
    "# 모델 성능 비교\n",
    "models = ['베이스라인', '개선된 모델']\n",
    "scores = [auc_baseline, auc_improved]\n",
    "\n",
    "plt.figure(figsize=(8, 6))\n",
    "bars = plt.bar(models, scores, color=['lightblue', 'orange'], alpha=0.7)\n",
    "plt.ylim(0.85, max(scores) + 0.01)\n",
    "plt.ylabel('Validation AUC')\n",
    "plt.title('모델 성능 비교')\n",
    "plt.grid(True, alpha=0.3)\n",
    "\n",
    "# 점수 표시\n",
    "for bar, score in zip(bars, scores):\n",
    "    plt.text(bar.get_x() + bar.get_width()/2, bar.get_height() + 0.001,\n",
    "             f'{score:.4f}', ha='center', va='bottom', fontweight='bold')\n",
    "\n",
    "plt.tight_layout()\n",
    "plt.show()"
   ]
  },
  {
   "cell_type": "markdown",
   "id": "e72aec57",
   "metadata": {},
   "source": [
    "# Inference (최고 성능 모델 사용)"
   ]
  },
  {
   "cell_type": "code",
   "execution_count": null,
   "id": "25f46531",
   "metadata": {},
   "outputs": [],
   "source": [
    "# 최종 모델로 전체 데이터 재훈련\n",
    "final_model = XGBClassifier(\n",
    "    n_estimators=200,\n",
    "    max_depth=6,\n",
    "    learning_rate=0.1,\n",
    "    subsample=0.8,\n",
    "    colsample_bytree=0.8,\n",
    "    reg_alpha=0.1,\n",
    "    reg_lambda=1.0,\n",
    "    random_state=42,\n",
    "    n_jobs=-1\n",
    ")\n",
    "\n",
    "# 전체 훈련 데이터로 학습\n",
    "X_full_vec = vectorizer.fit_transform(X)\n",
    "final_model.fit(X_full_vec, y)\n",
    "\n",
    "# 테스트 데이터 예측\n",
    "test = test.rename(columns={'paragraph_text': 'full_text'})\n",
    "X_test = test[['title', 'full_text']]\n",
    "X_test_vec = vectorizer.transform(X_test)\n",
    "\n",
    "probs = final_model.predict_proba(X_test_vec)[:, 1]\n",
    "print(f\"예측 완료. 예측값 범위: [{probs.min():.3f}, {probs.max():.3f}]\")"
   ]
  },
  {
   "cell_type": "markdown",
   "id": "722ab174",
   "metadata": {},
   "source": [
    "# Submission"
   ]
  },
  {
   "cell_type": "code",
   "execution_count": null,
   "id": "75066df6",
   "metadata": {},
   "outputs": [],
   "source": [
    "sample_submission = pd.read_csv('./sample_submission.csv', encoding='utf-8-sig')\n",
    "sample_submission['generated'] = probs\n",
    "\n",
    "# 개선된 결과 저장\n",
    "sample_submission.to_csv('./improved_submission.csv', index=False)\n",
    "print(\"개선된 제출 파일 저장 완료: improved_submission.csv\")\n",
    "\n",
    "# 성능 개선 요약\n",
    "print(f\"\\n=== 성능 개선 요약 ===\")\n",
    "print(f\"베이스라인 AUC: {auc_baseline:.4f}\")\n",
    "print(f\"개선된 AUC: {auc_improved:.4f}\")\n",
    "print(f\"개선폭: +{auc_improved - auc_baseline:.4f}\")\n",
    "print(f\"교차검증 AUC: {cv_scores.mean():.4f} ± {cv_scores.std():.4f}\")"
   ]
  }
 ],
 "metadata": {
  "language_info": {
   "name": "python"
  }
 },
 "nbformat": 4,
 "nbformat_minor": 5
}
